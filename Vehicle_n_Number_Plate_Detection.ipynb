{
  "nbformat": 4,
  "nbformat_minor": 0,
  "metadata": {
    "colab": {
      "provenance": [],
      "gpuType": "A100",
      "machine_shape": "hm",
      "authorship_tag": "ABX9TyO83rAmWqkRmopVGkW0pSq+"
    },
    "kernelspec": {
      "name": "python3",
      "display_name": "Python 3"
    },
    "language_info": {
      "name": "python"
    },
    "accelerator": "GPU"
  },
  "cells": [
    {
      "cell_type": "code",
      "execution_count": null,
      "metadata": {
        "id": "jhqhCDRd7eTE"
      },
      "outputs": [],
      "source": [
        "from google.colab import drive\n",
        "drive.mount('/content/drive')"
      ]
    },
    {
      "cell_type": "code",
      "source": [
        "import yaml\n",
        "import os\n",
        "\n",
        "# Base directory for the dataset\n",
        "base_path = '/content/drive/MyDrive/vehicle_data_unzipped/Vehicle-Detection'\n",
        "\n",
        "# Construct full absolute paths for images folders\n",
        "data_yaml = {\n",
        "    'train': os.path.join(base_path, 'train/images'),\n",
        "    'val': os.path.join(base_path, 'valid/images'),\n",
        "    'test': os.path.join(base_path, 'test/images'),\n",
        "    'nc': 2,\n",
        "    'names': ['vehicle', 'number plate']\n",
        "}\n",
        "\n",
        "# Save data.yaml inside the same directory\n",
        "yaml_path = os.path.join(base_path, 'data.yaml')\n",
        "\n",
        "# Write YAML content to file\n",
        "with open(yaml_path, 'w') as f:\n",
        "    yaml.dump(data_yaml, f, default_flow_style=False)\n",
        "\n",
        "print(f\"✅ data.yaml written successfully at:\\n{yaml_path}\")"
      ],
      "metadata": {
        "id": "jXE5AiM387v0"
      },
      "execution_count": null,
      "outputs": []
    },
    {
      "cell_type": "code",
      "source": [
        "!pip install ultralytics"
      ],
      "metadata": {
        "id": "r7Ws8Bom08KY"
      },
      "execution_count": null,
      "outputs": []
    },
    {
      "cell_type": "code",
      "source": [
        "from ultralytics import YOLO\n",
        "\n",
        "# Load a pre-trained YOLOv8 model (you can use yolov8n.pt, yolov8s.pt, etc.)\n",
        "model = YOLO('yolov8s.pt')\n",
        "\n",
        "# Train the model using your dataset\n",
        "model.train(\n",
        "    data='/content/drive/MyDrive/vehicle_data_unzipped/Vehicle-Detection/data.yaml',\n",
        "    epochs=50,\n",
        "    imgsz=640,\n",
        "    batch=16,\n",
        "    name='vehicle_detection'\n",
        ")"
      ],
      "metadata": {
        "id": "Y5jsW_ey88MX"
      },
      "execution_count": null,
      "outputs": []
    },
    {
      "cell_type": "code",
      "source": [
        "import shutil\n",
        "\n",
        "# Zip the folder\n",
        "shutil.make_archive('/content/detect', 'zip', '/content/runs/detect')\n",
        "\n"
      ],
      "metadata": {
        "id": "1D8x3tp5069D"
      },
      "execution_count": null,
      "outputs": []
    }
  ]
}